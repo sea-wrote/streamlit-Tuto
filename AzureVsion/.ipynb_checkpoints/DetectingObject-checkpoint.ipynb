{
 "cells": [
  {
   "cell_type": "code",
   "execution_count": 1,
   "id": "69cd76ef-db61-4f79-afdd-2466ca08d0e7",
   "metadata": {},
   "outputs": [
    {
     "name": "stdout",
     "output_type": "stream",
     "text": [
      "Defaulting to user installation because normal site-packages is not writeable\n",
      "Requirement already satisfied: azure-cognitiveservices-vision-computervision in /Users/taikikida/Library/Python/3.9/lib/python/site-packages (0.9.0)\n",
      "Requirement already satisfied: msrest>=0.5.0 in /Users/taikikida/Library/Python/3.9/lib/python/site-packages (from azure-cognitiveservices-vision-computervision) (0.7.1)\n",
      "Requirement already satisfied: azure-common~=1.1 in /Users/taikikida/Library/Python/3.9/lib/python/site-packages (from azure-cognitiveservices-vision-computervision) (1.1.28)\n",
      "Requirement already satisfied: azure-core>=1.24.0 in /Users/taikikida/Library/Python/3.9/lib/python/site-packages (from msrest>=0.5.0->azure-cognitiveservices-vision-computervision) (1.30.1)\n",
      "Requirement already satisfied: certifi>=2017.4.17 in /Users/taikikida/Library/Python/3.9/lib/python/site-packages (from msrest>=0.5.0->azure-cognitiveservices-vision-computervision) (2024.2.2)\n",
      "Requirement already satisfied: isodate>=0.6.0 in /Users/taikikida/Library/Python/3.9/lib/python/site-packages (from msrest>=0.5.0->azure-cognitiveservices-vision-computervision) (0.6.1)\n",
      "Requirement already satisfied: requests-oauthlib>=0.5.0 in /Users/taikikida/Library/Python/3.9/lib/python/site-packages (from msrest>=0.5.0->azure-cognitiveservices-vision-computervision) (2.0.0)\n",
      "Requirement already satisfied: requests~=2.16 in /Users/taikikida/Library/Python/3.9/lib/python/site-packages (from msrest>=0.5.0->azure-cognitiveservices-vision-computervision) (2.31.0)\n",
      "Requirement already satisfied: six>=1.11.0 in /Library/Developer/CommandLineTools/Library/Frameworks/Python3.framework/Versions/3.9/lib/python3.9/site-packages (from azure-core>=1.24.0->msrest>=0.5.0->azure-cognitiveservices-vision-computervision) (1.15.0)\n",
      "Requirement already satisfied: typing-extensions>=4.6.0 in /Users/taikikida/Library/Python/3.9/lib/python/site-packages (from azure-core>=1.24.0->msrest>=0.5.0->azure-cognitiveservices-vision-computervision) (4.11.0)\n",
      "Requirement already satisfied: charset-normalizer<4,>=2 in /Users/taikikida/Library/Python/3.9/lib/python/site-packages (from requests~=2.16->msrest>=0.5.0->azure-cognitiveservices-vision-computervision) (3.3.2)\n",
      "Requirement already satisfied: idna<4,>=2.5 in /Users/taikikida/Library/Python/3.9/lib/python/site-packages (from requests~=2.16->msrest>=0.5.0->azure-cognitiveservices-vision-computervision) (3.6)\n",
      "Requirement already satisfied: urllib3<3,>=1.21.1 in /Users/taikikida/Library/Python/3.9/lib/python/site-packages (from requests~=2.16->msrest>=0.5.0->azure-cognitiveservices-vision-computervision) (2.2.1)\n",
      "Requirement already satisfied: oauthlib>=3.0.0 in /Users/taikikida/Library/Python/3.9/lib/python/site-packages (from requests-oauthlib>=0.5.0->msrest>=0.5.0->azure-cognitiveservices-vision-computervision) (3.2.2)\n"
     ]
    }
   ],
   "source": [
    "!pip3 install --upgrade azure-cognitiveservices-vision-computervision"
   ]
  },
  {
   "cell_type": "code",
   "execution_count": null,
   "id": "ce8adad6-74fa-48ce-98fb-f6b7d11c93dd",
   "metadata": {},
   "outputs": [],
   "source": []
  },
  {
   "cell_type": "code",
   "execution_count": 2,
   "id": "357a60e4-89fd-4bf9-ba33-e4842c956aa9",
   "metadata": {},
   "outputs": [
    {
     "name": "stdout",
     "output_type": "stream",
     "text": [
      "Defaulting to user installation because normal site-packages is not writeable\n",
      "Requirement already satisfied: pillow in /Users/taikikida/Library/Python/3.9/lib/python/site-packages (10.3.0)\n"
     ]
    }
   ],
   "source": [
    "!pip install pillow"
   ]
  },
  {
   "cell_type": "code",
   "execution_count": 3,
   "id": "a930a5e4-f438-41b3-adae-c91a42037dfa",
   "metadata": {},
   "outputs": [
    {
     "name": "stderr",
     "output_type": "stream",
     "text": [
      "/Users/taikikida/Library/Python/3.9/lib/python/site-packages/urllib3/__init__.py:35: NotOpenSSLWarning: urllib3 v2 only supports OpenSSL 1.1.1+, currently the 'ssl' module is compiled with 'LibreSSL 2.8.3'. See: https://github.com/urllib3/urllib3/issues/3020\n",
      "  warnings.warn(\n"
     ]
    }
   ],
   "source": [
    "from azure.cognitiveservices.vision.computervision import ComputerVisionClient\n",
    "from azure.cognitiveservices.vision.computervision.models import OperationStatusCodes\n",
    "from azure.cognitiveservices.vision.computervision.models import VisualFeatureTypes\n",
    "from msrest.authentication import CognitiveServicesCredentials\n",
    "\n",
    "from array import array\n",
    "import os\n",
    "from PIL import Image\n",
    "import sys\n",
    "import time"
   ]
  },
  {
   "cell_type": "code",
   "execution_count": 8,
   "id": "6730a787-cfbf-45e9-97e3-7dade5d3b798",
   "metadata": {},
   "outputs": [],
   "source": [
    "import os\n",
    "os.environ[\"AZURE_COGNITIVE_SERVICES_SUBSCRIPTION_KEY\"] = \"6edf6aa63e3046c7a727a8d1267223cc\"\n",
    "os.environ[\"AZURE_COGNITIVE_SERVICES_ENDPOINT\"] = \"https://udemy20240506.cognitiveservices.azure.com/\""
   ]
  },
  {
   "cell_type": "code",
   "execution_count": 9,
   "id": "5b229a3f-c43b-4247-b9cd-4000750e2d6a",
   "metadata": {},
   "outputs": [],
   "source": [
    "subscription_key = os.environ[\"AZURE_COGNITIVE_SERVICES_SUBSCRIPTION_KEY\"]\n",
    "endpoint = os.environ[\"AZURE_COGNITIVE_SERVICES_ENDPOINT\"]"
   ]
  },
  {
   "cell_type": "code",
   "execution_count": 14,
   "id": "2b647dcf-9317-46bb-8bc0-a67355761eaf",
   "metadata": {},
   "outputs": [
    {
     "name": "stdout",
     "output_type": "stream",
     "text": [
      "===== Read File - remote =====\n",
      "9:35 AM\n",
      "[130.0, 129.0, 215.0, 130.0, 215.0, 149.0, 130.0, 148.0]\n",
      "Conference room 154584354\n",
      "[131.0, 153.0, 224.0, 153.0, 224.0, 161.0, 131.0, 160.0]\n",
      "Town Hall\n",
      "[545.0, 179.0, 589.0, 180.0, 589.0, 190.0, 545.0, 189.0]\n",
      "9:00 AM - 10:00 AM\n",
      "[545.0, 192.0, 596.0, 193.0, 596.0, 200.0, 545.0, 199.0]\n",
      "Aston Buien\n",
      "[545.0, 201.0, 581.0, 202.0, 581.0, 208.0, 545.0, 208.0]\n",
      "Daily SCRUM\n",
      "[537.0, 258.0, 572.0, 258.0, 572.0, 265.0, 537.0, 265.0]\n",
      "10:00 AM-11:00 AM\n",
      "[537.0, 266.0, 590.0, 266.0, 590.0, 272.0, 537.0, 272.0]\n",
      "Charlathe de Crum\n",
      "[538.0, 274.0, 584.0, 273.0, 584.0, 279.0, 538.0, 279.0]\n",
      "Quarterly NI Hands\n",
      "[538.0, 296.0, 589.0, 296.0, 589.0, 302.0, 538.0, 302.0]\n",
      "11:00 AM-12:00 PM\n",
      "[537.0, 303.0, 590.0, 303.0, 590.0, 309.0, 537.0, 309.0]\n",
      "Bebek Shaman\n",
      "[538.0, 310.0, 577.0, 310.0, 577.0, 317.0, 538.0, 316.0]\n",
      "Thuare\n",
      "[505.0, 316.0, 518.0, 316.0, 517.0, 320.0, 505.0, 320.0]\n",
      "Weekly stand up\n",
      "[538.0, 333.0, 582.0, 332.0, 582.0, 339.0, 538.0, 339.0]\n",
      "12:00 PM-1:00 PM\n",
      "[538.0, 339.0, 586.0, 339.0, 586.0, 345.0, 538.0, 345.0]\n",
      "Delle Marckre\n",
      "[537.0, 347.0, 584.0, 346.0, 584.0, 353.0, 537.0, 353.0]\n",
      "Product review\n",
      "[538.0, 370.0, 577.0, 370.0, 577.0, 376.0, 538.0, 375.0]\n",
      "\n",
      "End of Computer Vision quickstart.\n"
     ]
    }
   ],
   "source": [
    "computervision_client = ComputerVisionClient(endpoint, CognitiveServicesCredentials(subscription_key))\n",
    "\n",
    "'''\n",
    "OCR: Read File using the Read API, extract text - remote\n",
    "This example will extract text in an image, then print results, line by line.\n",
    "This API call can also extract handwriting style text (not shown).\n",
    "'''\n",
    "print(\"===== Read File - remote =====\")\n",
    "# Get an image with text\n",
    "read_image_url = \"https://learn.microsoft.com/azure/ai-services/computer-vision/media/quickstarts/presentation.png\"\n",
    "\n",
    "# Call API with URL and raw response (allows you to get the operation location)\n",
    "read_response = computervision_client.read(read_image_url,  raw=True)\n",
    "\n",
    "# Get the operation location (URL with an ID at the end) from the response\n",
    "read_operation_location = read_response.headers[\"Operation-Location\"]\n",
    "# Grab the ID from the URL\n",
    "operation_id = read_operation_location.split(\"/\")[-1]\n",
    "\n",
    "# Call the \"GET\" API and wait for it to retrieve the results \n",
    "while True:\n",
    "    read_result = computervision_client.get_read_result(operation_id)\n",
    "    if read_result.status not in ['notStarted', 'running']:\n",
    "        break\n",
    "    time.sleep(1)\n",
    "\n",
    "# Print the detected text, line by line\n",
    "if read_result.status == OperationStatusCodes.succeeded:\n",
    "    for text_result in read_result.analyze_result.read_results:\n",
    "        for line in text_result.lines:\n",
    "            print(line.text)\n",
    "            print(line.bounding_box)\n",
    "print()\n",
    "'''\n",
    "END - Read File - remote\n",
    "'''\n",
    "\n",
    "print(\"End of Computer Vision quickstart.\")\n"
   ]
  },
  {
   "cell_type": "code",
   "execution_count": 27,
   "id": "58b2db9f-ec0e-4f81-b5ba-8d51ecf85567",
   "metadata": {},
   "outputs": [
    {
     "name": "stdout",
     "output_type": "stream",
     "text": [
      "===== Categorize an image - remote =====\n",
      "Categories from remote image: \n",
      "'others_' with confidence 2.34%\n",
      "'object_screen' with confidence 91.80%\n",
      "No faces detected.\n"
     ]
    }
   ],
   "source": [
    "print(\"===== Categorize an image - remote =====\")\n",
    "remote_image_features = [\"categories\", \"Faces\"]\n",
    "categorize_results_remote = computervision_client.analyze_image(remote_image_url , remote_image_features)\n",
    "\n",
    "print(\"Categories from remote image: \")\n",
    "if (len(categorize_results_remote.categories) == 0):\n",
    "    print(\"No categories detected.\")\n",
    "else:\n",
    "    for category in categorize_results_remote.categories:\n",
    "        print(\"'{}' with confidence {:.2f}%\".format(category.name, category.score * 100))\n",
    "if len(categorize_results_remote.faces) == 0:\n",
    "    print(\"No faces detected.\")\n",
    "else:\n",
    "    for face in categorize_results_remote.faces:\n",
    "        print(\"Face detected:\")\n",
    "        print(\"Gender: {}\".format(face.gender))\n",
    "        print(\"Age: {}\".format(face.age))\n",
    "        print(\"Rectangle: Left={}, Top={}, Width={}, Height={}\".format(\n",
    "            face.face_rectangle.left,\n",
    "            face.face_rectangle.top,\n",
    "            face.face_rectangle.width,\n",
    "            face.face_rectangle.height\n",
    "        ))"
   ]
  },
  {
   "cell_type": "code",
   "execution_count": 29,
   "id": "944b5ca6-141c-4586-9c09-6450cb49b8ae",
   "metadata": {},
   "outputs": [
    {
     "name": "stdout",
     "output_type": "stream",
     "text": [
      "===== Detect Objects - remote =====\n",
      "Detecting objects in remote image:\n",
      "object at location 213, 365, 85, 208\n",
      "object at location 218, 402, 179, 384\n",
      "object at location 238, 417, 298, 416\n",
      "object at location 116, 419, 60, 386\n"
     ]
    }
   ],
   "source": [
    "print(\"===== Detect Objects - remote =====\")\n",
    "remote_image_url_objects = \"https://raw.githubusercontent.com/Azure-Samples/cognitive-services-sample-data-files/master/ComputerVision/Images/objects.jpg\"\n",
    "detect_objects_results_remote = computervision_client.detect_objects(remote_image_url_objects)\n",
    "\n",
    "print(\"Detecting objects in remote image:\")\n",
    "if len(detect_objects_results_remote.objects) == 0:\n",
    "    print(\"No objects detected.\")\n",
    "else:\n",
    "    for object in detect_objects_results_remote.objects:\n",
    "        print(\"object at location {}, {}, {}, {}\".format( \\\n",
    "        object.rectangle.x, object.rectangle.x + object.rectangle.w, \\\n",
    "        object.rectangle.y, object.rectangle.y + object.rectangle.h))"
   ]
  },
  {
   "cell_type": "code",
   "execution_count": 31,
   "id": "0905d4ab-e826-4d3d-9672-3f369944801b",
   "metadata": {},
   "outputs": [
    {
     "ename": "FileNotFoundError",
     "evalue": "[Errno 2] No such file or directory: 'sample01.jpg'",
     "output_type": "error",
     "traceback": [
      "\u001b[0;31m---------------------------------------------------------------------------\u001b[0m",
      "\u001b[0;31mFileNotFoundError\u001b[0m                         Traceback (most recent call last)",
      "Cell \u001b[0;32mIn[31], line 3\u001b[0m\n\u001b[1;32m      1\u001b[0m local_image_path \u001b[38;5;241m=\u001b[39m \u001b[38;5;124m'\u001b[39m\u001b[38;5;124msample01.jpg\u001b[39m\u001b[38;5;124m'\u001b[39m\n\u001b[0;32m----> 3\u001b[0m local_image \u001b[38;5;241m=\u001b[39m \u001b[38;5;28;43mopen\u001b[39;49m\u001b[43m(\u001b[49m\u001b[43mlocal_image_path\u001b[49m\u001b[43m,\u001b[49m\u001b[43m \u001b[49m\u001b[38;5;124;43m\"\u001b[39;49m\u001b[38;5;124;43mrb\u001b[39;49m\u001b[38;5;124;43m\"\u001b[39;49m\u001b[43m)\u001b[49m\n\u001b[1;32m      6\u001b[0m \u001b[38;5;28mprint\u001b[39m(\u001b[38;5;124m\"\u001b[39m\u001b[38;5;124m===== Detect Objects - local =====\u001b[39m\u001b[38;5;124m\"\u001b[39m)\n\u001b[1;32m      7\u001b[0m detect_objects_results\u001b[38;5;241m=\u001b[39mcomputervision_client\u001b[38;5;241m.\u001b[39mdetect_objects_in_stream(local_image)\n",
      "File \u001b[0;32m~/Library/Python/3.9/lib/python/site-packages/IPython/core/interactiveshell.py:284\u001b[0m, in \u001b[0;36m_modified_open\u001b[0;34m(file, *args, **kwargs)\u001b[0m\n\u001b[1;32m    277\u001b[0m \u001b[38;5;28;01mif\u001b[39;00m file \u001b[38;5;129;01min\u001b[39;00m {\u001b[38;5;241m0\u001b[39m, \u001b[38;5;241m1\u001b[39m, \u001b[38;5;241m2\u001b[39m}:\n\u001b[1;32m    278\u001b[0m     \u001b[38;5;28;01mraise\u001b[39;00m \u001b[38;5;167;01mValueError\u001b[39;00m(\n\u001b[1;32m    279\u001b[0m         \u001b[38;5;124mf\u001b[39m\u001b[38;5;124m\"\u001b[39m\u001b[38;5;124mIPython won\u001b[39m\u001b[38;5;124m'\u001b[39m\u001b[38;5;124mt let you open fd=\u001b[39m\u001b[38;5;132;01m{\u001b[39;00mfile\u001b[38;5;132;01m}\u001b[39;00m\u001b[38;5;124m by default \u001b[39m\u001b[38;5;124m\"\u001b[39m\n\u001b[1;32m    280\u001b[0m         \u001b[38;5;124m\"\u001b[39m\u001b[38;5;124mas it is likely to crash IPython. If you know what you are doing, \u001b[39m\u001b[38;5;124m\"\u001b[39m\n\u001b[1;32m    281\u001b[0m         \u001b[38;5;124m\"\u001b[39m\u001b[38;5;124myou can use builtins\u001b[39m\u001b[38;5;124m'\u001b[39m\u001b[38;5;124m open.\u001b[39m\u001b[38;5;124m\"\u001b[39m\n\u001b[1;32m    282\u001b[0m     )\n\u001b[0;32m--> 284\u001b[0m \u001b[38;5;28;01mreturn\u001b[39;00m \u001b[43mio_open\u001b[49m\u001b[43m(\u001b[49m\u001b[43mfile\u001b[49m\u001b[43m,\u001b[49m\u001b[43m \u001b[49m\u001b[38;5;241;43m*\u001b[39;49m\u001b[43margs\u001b[49m\u001b[43m,\u001b[49m\u001b[43m \u001b[49m\u001b[38;5;241;43m*\u001b[39;49m\u001b[38;5;241;43m*\u001b[39;49m\u001b[43mkwargs\u001b[49m\u001b[43m)\u001b[49m\n",
      "\u001b[0;31mFileNotFoundError\u001b[0m: [Errno 2] No such file or directory: 'sample01.jpg'"
     ]
    }
   ],
   "source": [
    "local_image_path = 'sample01.jpg'\n",
    "\n",
    "local_image = open(local_image_path, \"rb\")\n",
    "\n",
    "\n",
    "print(\"===== Detect Objects - local =====\")\n",
    "detect_objects_results=computervision_client.detect_objects_in_stream(local_image)\n",
    "\n",
    "print(\"Detecting objects in remote image:\")\n",
    "if len(detect_objects_results_remote.objects) == 0:\n",
    "    print(\"No objects detected.\")\n",
    "else:\n",
    "    for object in detect_objects_results_remote.objects:\n",
    "        print(\"object at location {}, {}, {}, {}\".format( \\\n",
    "        object.rectangle.x, object.rectangle.x + object.rectangle.w, \\\n",
    "        object.rectangle.y, object.rectangle.y + object.rectangle.h))"
   ]
  },
  {
   "cell_type": "code",
   "execution_count": null,
   "id": "bdf7480e-f3bd-4f2d-ade0-f24482b08c4a",
   "metadata": {},
   "outputs": [],
   "source": []
  }
 ],
 "metadata": {
  "kernelspec": {
   "display_name": "Python 3 (ipykernel)",
   "language": "python",
   "name": "python3"
  },
  "language_info": {
   "codemirror_mode": {
    "name": "ipython",
    "version": 3
   },
   "file_extension": ".py",
   "mimetype": "text/x-python",
   "name": "python",
   "nbconvert_exporter": "python",
   "pygments_lexer": "ipython3",
   "version": "3.9.6"
  }
 },
 "nbformat": 4,
 "nbformat_minor": 5
}
